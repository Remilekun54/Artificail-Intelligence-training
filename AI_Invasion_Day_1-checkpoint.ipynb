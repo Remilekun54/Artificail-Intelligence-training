{
 "cells": [
  {
   "cell_type": "markdown",
   "metadata": {
    "id": "60YmhgfTJ7Ig"
   },
   "source": [
    "## Data types in python"
   ]
  },
  {
   "cell_type": "code",
   "execution_count": null,
   "metadata": {
    "colab": {
     "base_uri": "https://localhost:8080/"
    },
    "id": "it1b8MNZ3WwD",
    "outputId": "b52bd160-8e5a-4e6a-92c8-eeea4e7c0a3d"
   },
   "outputs": [
    {
     "name": "stdout",
     "output_type": "stream",
     "text": [
      "10.0\n"
     ]
    }
   ],
   "source": [
    "# Integer\n",
    "number = 20\n",
    "result = number / 2\n",
    "print(result)"
   ]
  },
  {
   "cell_type": "code",
   "execution_count": null,
   "metadata": {
    "colab": {
     "base_uri": "https://localhost:8080/"
    },
    "id": "ohravkbE3jfw",
    "outputId": "1b520bbb-4696-43ce-ae21-66255117ed6d"
   },
   "outputs": [
    {
     "name": "stdout",
     "output_type": "stream",
     "text": [
      "Raising 1 million AI talents and building AI solutions to enhance the quality of lives of 2 billion people in emerging market\n"
     ]
    }
   ],
   "source": [
    "# String\n",
    "sentence_one = \"Raising 1 million AI talents\"\n",
    "sentence_two = \"and building AI solutions to enhance the quality of lives of 2 billion people in emerging market\"\n",
    "print(sentence_one, sentence_two, sep=\" \")"
   ]
  },
  {
   "cell_type": "code",
   "execution_count": null,
   "metadata": {
    "colab": {
     "base_uri": "https://localhost:8080/"
    },
    "id": "PP5dgjVQ5HyV",
    "outputId": "3103edc1-89ca-4d9c-9230-1a040c8db549"
   },
   "outputs": [
    {
     "name": "stdout",
     "output_type": "stream",
     "text": [
      "18.0864\n"
     ]
    }
   ],
   "source": [
    "# Float\n",
    "decimal_number = 3.14\n",
    "radius = 2.4\n",
    "Area_of_circle = decimal_number * (2.4 **2)\n",
    "print(Area_of_circle)"
   ]
  },
  {
   "cell_type": "code",
   "execution_count": null,
   "metadata": {
    "colab": {
     "base_uri": "https://localhost:8080/"
    },
    "id": "C7Ozcsou50fi",
    "outputId": "cdc6acea-ce45-4453-c8da-ef984428188a"
   },
   "outputs": [
    {
     "name": "stdout",
     "output_type": "stream",
     "text": [
      "['Tolu', 'Uche', 'Musa', 'John']\n"
     ]
    }
   ],
   "source": [
    "# List\n",
    "names = [\"Tolu\", \"Uche\", \"Musa\"]\n",
    "names.append(\"John\")\n",
    "print(names)"
   ]
  },
  {
   "cell_type": "code",
   "execution_count": null,
   "metadata": {
    "colab": {
     "base_uri": "https://localhost:8080/"
    },
    "id": "3oWglYuc6O-5",
    "outputId": "df2622c4-ad57-42bd-a6dc-09368cbda5c7"
   },
   "outputs": [
    {
     "name": "stdout",
     "output_type": "stream",
     "text": [
      "('Tolu', 'Musa', 'Tolu')\n"
     ]
    }
   ],
   "source": [
    "# Tuple\n",
    "names_tuple = (\"Tolu\", \"Musa\", \"Tolu\")\n",
    "print(names_tuple)"
   ]
  },
  {
   "cell_type": "code",
   "execution_count": null,
   "metadata": {
    "colab": {
     "base_uri": "https://localhost:8080/"
    },
    "id": "quGY1JFO6n6u",
    "outputId": "71134fce-6ddd-46f4-8db5-55d051085add"
   },
   "outputs": [
    {
     "name": "stdout",
     "output_type": "stream",
     "text": [
      "{'Ngozi', 'Baki', 'Ali', 'Ade', 'Bayo'}\n"
     ]
    }
   ],
   "source": [
    "# Set\n",
    "names_set = {\"Ade\", \"Bayo\", \"Ali\", \"Ngozi\"}\n",
    "names_set.add(\"Baki\")\n",
    "names_set.add(\"Ade\")\n",
    "print(names_set)"
   ]
  },
  {
   "cell_type": "code",
   "execution_count": null,
   "metadata": {
    "colab": {
     "base_uri": "https://localhost:8080/"
    },
    "id": "OaskLrri7TmK",
    "outputId": "dfdb153d-56df-4d47-f4b2-d2814c2e186c"
   },
   "outputs": [
    {
     "name": "stdout",
     "output_type": "stream",
     "text": [
      "His age is 20\n"
     ]
    }
   ],
   "source": [
    "# If Statement\n",
    "# if expression:\n",
    "#    Statement\n",
    "\n",
    "age = 20\n",
    "if age > 10:\n",
    "  print(f\"His age is {age}\")"
   ]
  },
  {
   "cell_type": "markdown",
   "metadata": {
    "id": "ZpLh8Ca1KEM3"
   },
   "source": [
    "## Conditional Statement"
   ]
  },
  {
   "cell_type": "code",
   "execution_count": 1,
   "metadata": {
    "colab": {
     "base_uri": "https://localhost:8080/"
    },
    "id": "UwQZo1xy8DEl",
    "outputId": "fd9da007-3b94-47f3-c29c-b2cbda340aac"
   },
   "outputs": [
    {
     "name": "stdout",
     "output_type": "stream",
     "text": [
      "His age is 20\n"
     ]
    }
   ],
   "source": [
    "# If else Statement\n",
    "# if condition :\n",
    "#    Will executes this block if the condition is true\n",
    "# else :\n",
    "#    Will executes this block if the condition is false\n",
    "\n",
    "age = 20\n",
    "if age > 10:\n",
    "  print(f\"His age is {age}\")\n",
    "else:\n",
    "  print(\"He too young to play football\")\n",
    "\n",
    "# you can change the value of age\n",
    "# and see what happends"
   ]
  },
  {
   "cell_type": "markdown",
   "metadata": {
    "id": "A241BhqBKJ90"
   },
   "source": [
    "## Fuction"
   ]
  },
  {
   "cell_type": "code",
   "execution_count": null,
   "metadata": {
    "colab": {
     "base_uri": "https://localhost:8080/"
    },
    "id": "DQ6UhH5P8ozL",
    "outputId": "fb87f834-4a65-4f2b-f18e-876a6cbbc4d7"
   },
   "outputs": [
    {
     "name": "stdout",
     "output_type": "stream",
     "text": [
      "4\n"
     ]
    }
   ],
   "source": [
    "# function\n",
    "# create a functions named \"count_letters\" \n",
    "# that count number of letters in a string\n",
    "def count_letters(word):\n",
    "  counter = len(word)\n",
    "  return counter\n",
    "\n",
    "print(count_letters(\"Simi\"))"
   ]
  },
  {
   "cell_type": "code",
   "execution_count": null,
   "metadata": {
    "id": "BTCVFa109_hO"
   },
   "outputs": [],
   "source": []
  }
 ],
 "metadata": {
  "colab": {
   "name": "AI Invasion - Day 1.ipynb",
   "provenance": []
  },
  "kernelspec": {
   "display_name": "Python 3 (ipykernel)",
   "language": "python",
   "name": "python3"
  },
  "language_info": {
   "codemirror_mode": {
    "name": "ipython",
    "version": 3
   },
   "file_extension": ".py",
   "mimetype": "text/x-python",
   "name": "python",
   "nbconvert_exporter": "python",
   "pygments_lexer": "ipython3",
   "version": "3.9.7"
  }
 },
 "nbformat": 4,
 "nbformat_minor": 1
}
